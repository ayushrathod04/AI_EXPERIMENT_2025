{
 "cells": [
  {
   "cell_type": "code",
   "execution_count": 2,
   "id": "0048dbe7",
   "metadata": {},
   "outputs": [],
   "source": [
    "import nltk                                # Python library for NLP\n"
   ]
  },
  {
   "cell_type": "code",
   "execution_count": 3,
   "id": "ca378f42",
   "metadata": {},
   "outputs": [
    {
     "ename": "AttributeError",
     "evalue": "module 'nltk' has no attribute 'internals'",
     "output_type": "error",
     "traceback": [
      "\u001b[31m---------------------------------------------------------------------------\u001b[39m",
      "\u001b[31mAttributeError\u001b[39m                            Traceback (most recent call last)",
      "\u001b[36mCell\u001b[39m\u001b[36m \u001b[39m\u001b[32mIn[3]\u001b[39m\u001b[32m, line 1\u001b[39m\n\u001b[32m----> \u001b[39m\u001b[32m1\u001b[39m \u001b[43mnltk\u001b[49m\u001b[43m.\u001b[49m\u001b[43mdownload\u001b[49m\u001b[43m(\u001b[49m\u001b[33;43m'\u001b[39;49m\u001b[33;43mpunkt\u001b[39;49m\u001b[33;43m'\u001b[39;49m\u001b[43m)\u001b[49m                     \u001b[38;5;66;03m# Download the Punkt tokenizer models\u001b[39;00m\n\u001b[32m      2\u001b[39m nltk.download(\u001b[33m'\u001b[39m\u001b[33maveraged_perceptron_tagger\u001b[39m\u001b[33m'\u001b[39m)  \u001b[38;5;66;03m# Download the POS tagger models\u001b[39;00m\n\u001b[32m      3\u001b[39m nltk.download(\u001b[33m'\u001b[39m\u001b[33mwordnet\u001b[39m\u001b[33m'\u001b[39m)                   \u001b[38;5;66;03m# Download the WordNet lexical database\u001b[39;00m\n",
      "\u001b[36mFile \u001b[39m\u001b[32m~\\AppData\\Roaming\\Python\\Python313\\site-packages\\nltk\\downloader.py:774\u001b[39m, in \u001b[36mDownloader.download\u001b[39m\u001b[34m(self, info_or_id, download_dir, quiet, force, prefix, halt_on_error, raise_on_error, print_error_to)\u001b[39m\n\u001b[32m    765\u001b[39m \u001b[38;5;28;01mdef\u001b[39;00m\u001b[38;5;250m \u001b[39m\u001b[34mshow\u001b[39m(s, prefix2=\u001b[33m\"\u001b[39m\u001b[33m\"\u001b[39m):\n\u001b[32m    766\u001b[39m     print_to(\n\u001b[32m    767\u001b[39m         textwrap.fill(\n\u001b[32m    768\u001b[39m             s,\n\u001b[32m   (...)\u001b[39m\u001b[32m    771\u001b[39m         )\n\u001b[32m    772\u001b[39m     )\n\u001b[32m--> \u001b[39m\u001b[32m774\u001b[39m \u001b[43m\u001b[49m\u001b[38;5;28;43;01mfor\u001b[39;49;00m\u001b[43m \u001b[49m\u001b[43mmsg\u001b[49m\u001b[43m \u001b[49m\u001b[38;5;129;43;01min\u001b[39;49;00m\u001b[43m \u001b[49m\u001b[38;5;28;43mself\u001b[39;49m\u001b[43m.\u001b[49m\u001b[43mincr_download\u001b[49m\u001b[43m(\u001b[49m\u001b[43minfo_or_id\u001b[49m\u001b[43m,\u001b[49m\u001b[43m \u001b[49m\u001b[43mdownload_dir\u001b[49m\u001b[43m,\u001b[49m\u001b[43m \u001b[49m\u001b[43mforce\u001b[49m\u001b[43m)\u001b[49m\u001b[43m:\u001b[49m\n\u001b[32m    775\u001b[39m \u001b[43m    \u001b[49m\u001b[38;5;66;43;03m# Error messages\u001b[39;49;00m\n\u001b[32m    776\u001b[39m \u001b[43m    \u001b[49m\u001b[38;5;28;43;01mif\u001b[39;49;00m\u001b[43m \u001b[49m\u001b[38;5;28;43misinstance\u001b[39;49m\u001b[43m(\u001b[49m\u001b[43mmsg\u001b[49m\u001b[43m,\u001b[49m\u001b[43m \u001b[49m\u001b[43mErrorMessage\u001b[49m\u001b[43m)\u001b[49m\u001b[43m:\u001b[49m\n\u001b[32m    777\u001b[39m \u001b[43m        \u001b[49m\u001b[43mshow\u001b[49m\u001b[43m(\u001b[49m\u001b[43mmsg\u001b[49m\u001b[43m.\u001b[49m\u001b[43mmessage\u001b[49m\u001b[43m)\u001b[49m\n",
      "\u001b[36mFile \u001b[39m\u001b[32m~\\AppData\\Roaming\\Python\\Python313\\site-packages\\nltk\\downloader.py:629\u001b[39m, in \u001b[36mDownloader.incr_download\u001b[39m\u001b[34m(self, info_or_id, download_dir, force)\u001b[39m\n\u001b[32m    627\u001b[39m \u001b[38;5;66;03m# Look up the requested collection or package.\u001b[39;00m\n\u001b[32m    628\u001b[39m \u001b[38;5;28;01mtry\u001b[39;00m:\n\u001b[32m--> \u001b[39m\u001b[32m629\u001b[39m     info = \u001b[38;5;28;43mself\u001b[39;49m\u001b[43m.\u001b[49m\u001b[43m_info_or_id\u001b[49m\u001b[43m(\u001b[49m\u001b[43minfo_or_id\u001b[49m\u001b[43m)\u001b[49m\n\u001b[32m    630\u001b[39m \u001b[38;5;28;01mexcept\u001b[39;00m (\u001b[38;5;167;01mOSError\u001b[39;00m, \u001b[38;5;167;01mValueError\u001b[39;00m) \u001b[38;5;28;01mas\u001b[39;00m e:\n\u001b[32m    631\u001b[39m     \u001b[38;5;28;01myield\u001b[39;00m ErrorMessage(\u001b[38;5;28;01mNone\u001b[39;00m, \u001b[33mf\u001b[39m\u001b[33m\"\u001b[39m\u001b[33mError loading \u001b[39m\u001b[38;5;132;01m{\u001b[39;00minfo_or_id\u001b[38;5;132;01m}\u001b[39;00m\u001b[33m: \u001b[39m\u001b[38;5;132;01m{\u001b[39;00me\u001b[38;5;132;01m}\u001b[39;00m\u001b[33m\"\u001b[39m)\n",
      "\u001b[36mFile \u001b[39m\u001b[32m~\\AppData\\Roaming\\Python\\Python313\\site-packages\\nltk\\downloader.py:603\u001b[39m, in \u001b[36mDownloader._info_or_id\u001b[39m\u001b[34m(self, info_or_id)\u001b[39m\n\u001b[32m    601\u001b[39m \u001b[38;5;28;01mdef\u001b[39;00m\u001b[38;5;250m \u001b[39m\u001b[34m_info_or_id\u001b[39m(\u001b[38;5;28mself\u001b[39m, info_or_id):\n\u001b[32m    602\u001b[39m     \u001b[38;5;28;01mif\u001b[39;00m \u001b[38;5;28misinstance\u001b[39m(info_or_id, \u001b[38;5;28mstr\u001b[39m):\n\u001b[32m--> \u001b[39m\u001b[32m603\u001b[39m         \u001b[38;5;28;01mreturn\u001b[39;00m \u001b[38;5;28;43mself\u001b[39;49m\u001b[43m.\u001b[49m\u001b[43minfo\u001b[49m\u001b[43m(\u001b[49m\u001b[43minfo_or_id\u001b[49m\u001b[43m)\u001b[49m\n\u001b[32m    604\u001b[39m     \u001b[38;5;28;01melse\u001b[39;00m:\n\u001b[32m    605\u001b[39m         \u001b[38;5;28;01mreturn\u001b[39;00m info_or_id\n",
      "\u001b[36mFile \u001b[39m\u001b[32m~\\AppData\\Roaming\\Python\\Python313\\site-packages\\nltk\\downloader.py:1006\u001b[39m, in \u001b[36mDownloader.info\u001b[39m\u001b[34m(self, id)\u001b[39m\n\u001b[32m   1003\u001b[39m \u001b[38;5;28;01mdef\u001b[39;00m\u001b[38;5;250m \u001b[39m\u001b[34minfo\u001b[39m(\u001b[38;5;28mself\u001b[39m, \u001b[38;5;28mid\u001b[39m):\n\u001b[32m   1004\u001b[39m \u001b[38;5;250m    \u001b[39m\u001b[33;03m\"\"\"Return the ``Package`` or ``Collection`` record for the\u001b[39;00m\n\u001b[32m   1005\u001b[39m \u001b[33;03m    given item.\"\"\"\u001b[39;00m\n\u001b[32m-> \u001b[39m\u001b[32m1006\u001b[39m     \u001b[38;5;28;43mself\u001b[39;49m\u001b[43m.\u001b[49m\u001b[43m_update_index\u001b[49m\u001b[43m(\u001b[49m\u001b[43m)\u001b[49m\n\u001b[32m   1007\u001b[39m     \u001b[38;5;28;01mif\u001b[39;00m \u001b[38;5;28mid\u001b[39m \u001b[38;5;129;01min\u001b[39;00m \u001b[38;5;28mself\u001b[39m._packages:\n\u001b[32m   1008\u001b[39m         \u001b[38;5;28;01mreturn\u001b[39;00m \u001b[38;5;28mself\u001b[39m._packages[\u001b[38;5;28mid\u001b[39m]\n",
      "\u001b[36mFile \u001b[39m\u001b[32m~\\AppData\\Roaming\\Python\\Python313\\site-packages\\nltk\\downloader.py:948\u001b[39m, in \u001b[36mDownloader._update_index\u001b[39m\u001b[34m(self, url)\u001b[39m\n\u001b[32m    945\u001b[39m \u001b[38;5;28mself\u001b[39m._url = url \u001b[38;5;129;01mor\u001b[39;00m \u001b[38;5;28mself\u001b[39m._url\n\u001b[32m    947\u001b[39m \u001b[38;5;66;03m# Download the index file.\u001b[39;00m\n\u001b[32m--> \u001b[39m\u001b[32m948\u001b[39m \u001b[38;5;28mself\u001b[39m._index = \u001b[43mnltk\u001b[49m\u001b[43m.\u001b[49m\u001b[43minternals\u001b[49m.ElementWrapper(\n\u001b[32m    949\u001b[39m     ElementTree.parse(urlopen(\u001b[38;5;28mself\u001b[39m._url)).getroot()\n\u001b[32m    950\u001b[39m )\n\u001b[32m    951\u001b[39m \u001b[38;5;28mself\u001b[39m._index_timestamp = time.time()\n\u001b[32m    953\u001b[39m \u001b[38;5;66;03m# Build a dictionary of packages.\u001b[39;00m\n",
      "\u001b[31mAttributeError\u001b[39m: module 'nltk' has no attribute 'internals'"
     ]
    }
   ],
   "source": [
    "nltk.download('punkt')                     # Download the Punkt tokenizer models\n",
    "nltk.download('averaged_perceptron_tagger')  # Download the POS tagger models\n",
    "nltk.download('wordnet')                   # Download the WordNet lexical database\n",
    "nltk.download('stopwords')                # Download the list of stopwords\n",
    "nltk.download('omw-1.4')                  # Download the Open Multilingual WordNet\n",
    "nltk.download('maxent_ne_chunker')        # Download the Named Entity Chunker\n",
    "nltk.download('words')                    # Download the list of words for NER          "
   ]
  },
  {
   "cell_type": "code",
   "execution_count": null,
   "id": "031e0717",
   "metadata": {},
   "outputs": [],
   "source": []
  }
 ],
 "metadata": {
  "kernelspec": {
   "display_name": "ai",
   "language": "python",
   "name": "python3"
  },
  "language_info": {
   "codemirror_mode": {
    "name": "ipython",
    "version": 3
   },
   "file_extension": ".py",
   "mimetype": "text/x-python",
   "name": "python",
   "nbconvert_exporter": "python",
   "pygments_lexer": "ipython3",
   "version": "3.13.5"
  }
 },
 "nbformat": 4,
 "nbformat_minor": 5
}
