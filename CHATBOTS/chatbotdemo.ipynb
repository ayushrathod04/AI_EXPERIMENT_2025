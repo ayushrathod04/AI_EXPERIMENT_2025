{
  "nbformat": 4,
  "nbformat_minor": 0,
  "metadata": {
    "colab": {
      "provenance": []
    },
    "kernelspec": {
      "name": "python3",
      "display_name": "Python 3"
    },
    "language_info": {
      "name": "python"
    }
  },
  "cells": [
    {
      "cell_type": "code",
      "execution_count": 3,
      "metadata": {
        "colab": {
          "base_uri": "https://localhost:8080/"
        },
        "id": "aB5fcg5AeyBD",
        "outputId": "881b7944-fed4-4531-c003-b48269188085"
      },
      "outputs": [
        {
          "output_type": "stream",
          "name": "stdout",
          "text": [
            "Requirement already satisfied: flask in /usr/local/lib/python3.11/dist-packages (3.1.1)\n",
            "Requirement already satisfied: blinker>=1.9.0 in /usr/local/lib/python3.11/dist-packages (from flask) (1.9.0)\n",
            "Requirement already satisfied: click>=8.1.3 in /usr/local/lib/python3.11/dist-packages (from flask) (8.2.1)\n",
            "Requirement already satisfied: itsdangerous>=2.2.0 in /usr/local/lib/python3.11/dist-packages (from flask) (2.2.0)\n",
            "Requirement already satisfied: jinja2>=3.1.2 in /usr/local/lib/python3.11/dist-packages (from flask) (3.1.6)\n",
            "Requirement already satisfied: markupsafe>=2.1.1 in /usr/local/lib/python3.11/dist-packages (from flask) (3.0.2)\n",
            "Requirement already satisfied: werkzeug>=3.1.0 in /usr/local/lib/python3.11/dist-packages (from flask) (3.1.3)\n"
          ]
        }
      ],
      "source": [
        "!pip install flask"
      ]
    },
    {
      "cell_type": "code",
      "source": [
        "!pip install transformers\n"
      ],
      "metadata": {
        "colab": {
          "base_uri": "https://localhost:8080/"
        },
        "id": "X9BWfSkCflxH",
        "outputId": "41458056-1964-4d72-c54d-042ea62ee8cb"
      },
      "execution_count": 4,
      "outputs": [
        {
          "output_type": "stream",
          "name": "stdout",
          "text": [
            "Requirement already satisfied: transformers in /usr/local/lib/python3.11/dist-packages (4.52.4)\n",
            "Requirement already satisfied: filelock in /usr/local/lib/python3.11/dist-packages (from transformers) (3.18.0)\n",
            "Requirement already satisfied: huggingface-hub<1.0,>=0.30.0 in /usr/local/lib/python3.11/dist-packages (from transformers) (0.33.0)\n",
            "Requirement already satisfied: numpy>=1.17 in /usr/local/lib/python3.11/dist-packages (from transformers) (2.0.2)\n",
            "Requirement already satisfied: packaging>=20.0 in /usr/local/lib/python3.11/dist-packages (from transformers) (24.2)\n",
            "Requirement already satisfied: pyyaml>=5.1 in /usr/local/lib/python3.11/dist-packages (from transformers) (6.0.2)\n",
            "Requirement already satisfied: regex!=2019.12.17 in /usr/local/lib/python3.11/dist-packages (from transformers) (2024.11.6)\n",
            "Requirement already satisfied: requests in /usr/local/lib/python3.11/dist-packages (from transformers) (2.32.3)\n",
            "Requirement already satisfied: tokenizers<0.22,>=0.21 in /usr/local/lib/python3.11/dist-packages (from transformers) (0.21.1)\n",
            "Requirement already satisfied: safetensors>=0.4.3 in /usr/local/lib/python3.11/dist-packages (from transformers) (0.5.3)\n",
            "Requirement already satisfied: tqdm>=4.27 in /usr/local/lib/python3.11/dist-packages (from transformers) (4.67.1)\n",
            "Requirement already satisfied: fsspec>=2023.5.0 in /usr/local/lib/python3.11/dist-packages (from huggingface-hub<1.0,>=0.30.0->transformers) (2025.3.2)\n",
            "Requirement already satisfied: typing-extensions>=3.7.4.3 in /usr/local/lib/python3.11/dist-packages (from huggingface-hub<1.0,>=0.30.0->transformers) (4.14.0)\n",
            "Requirement already satisfied: hf-xet<2.0.0,>=1.1.2 in /usr/local/lib/python3.11/dist-packages (from huggingface-hub<1.0,>=0.30.0->transformers) (1.1.4)\n",
            "Requirement already satisfied: charset-normalizer<4,>=2 in /usr/local/lib/python3.11/dist-packages (from requests->transformers) (3.4.2)\n",
            "Requirement already satisfied: idna<4,>=2.5 in /usr/local/lib/python3.11/dist-packages (from requests->transformers) (3.10)\n",
            "Requirement already satisfied: urllib3<3,>=1.21.1 in /usr/local/lib/python3.11/dist-packages (from requests->transformers) (2.4.0)\n",
            "Requirement already satisfied: certifi>=2017.4.17 in /usr/local/lib/python3.11/dist-packages (from requests->transformers) (2025.6.15)\n"
          ]
        }
      ]
    },
    {
      "cell_type": "code",
      "source": [
        "%%writefile flask_chatbot_app.py\n",
        "from flask import Flask, request, jsonify\n",
        "from transformers import pipeline, set_seed\n",
        "\n",
        "app = Flask(__name__)\n",
        "\n",
        "# Load the chatbot model\n",
        "chatbot_model = pipeline(\"text-generation\", model=\"microsoft/DialoGPT-medium\")\n",
        "set_seed(42)\n",
        "\n",
        "def generate_response(user_input):\n",
        "    response = chatbot_model(user_input, max_length=100, num_return_sequences=1)\n",
        "    return response[0]['generated_text']\n",
        "\n",
        "@app.route('/chatbot', methods=['POST'])\n",
        "def chatbot():\n",
        "    user_input = request.json.get('message')\n",
        "    if not user_input:\n",
        "        return jsonify({'error': 'Please provide a message'}), 400\n",
        "\n",
        "    response = generate_response(user_input)\n",
        "    return jsonify({'response': response})\n",
        "\n",
        "if __name__ == '__main__':\n",
        "    app.run(debug=True, port=5000, host='0.0.0.0')\n"
      ],
      "metadata": {
        "colab": {
          "base_uri": "https://localhost:8080/"
        },
        "id": "DGCoGJ2hgQvc",
        "outputId": "8fbe455e-32ee-4143-b28b-2fe0881f40cc"
      },
      "execution_count": 5,
      "outputs": [
        {
          "output_type": "stream",
          "name": "stdout",
          "text": [
            "Writing flask_chatbot_app.py\n"
          ]
        }
      ]
    },
    {
      "cell_type": "code",
      "source": [
        "import subprocess\n",
        "subprocess.run(['pkill', '-f', 'flask_chatbot_app.py'])\n"
      ],
      "metadata": {
        "colab": {
          "base_uri": "https://localhost:8080/"
        },
        "id": "cnP3aDY5vxmR",
        "outputId": "896f0bca-31a3-42bb-9ea5-7a4203dbf550"
      },
      "execution_count": 6,
      "outputs": [
        {
          "output_type": "execute_result",
          "data": {
            "text/plain": [
              "CompletedProcess(args=['pkill', '-f', 'flask_chatbot_app.py'], returncode=1)"
            ]
          },
          "metadata": {},
          "execution_count": 6
        }
      ]
    },
    {
      "cell_type": "code",
      "source": [
        "!nohup python flask_chatbot_app.py &"
      ],
      "metadata": {
        "colab": {
          "base_uri": "https://localhost:8080/"
        },
        "id": "rVXT9OS_wyXP",
        "outputId": "e603e7e5-3385-4ffa-df20-a80cec04f9fb"
      },
      "execution_count": 7,
      "outputs": [
        {
          "output_type": "stream",
          "name": "stdout",
          "text": [
            "nohup: appending output to 'nohup.out'\n"
          ]
        }
      ]
    },
    {
      "cell_type": "code",
      "source": [
        "!sudo lsof -i -P -n | grep LISTEN\n"
      ],
      "metadata": {
        "colab": {
          "base_uri": "https://localhost:8080/"
        },
        "id": "biOc6G9qxGf0",
        "outputId": "242a0747-a407-4c4a-b0d5-de978694dbdc"
      },
      "execution_count": 8,
      "outputs": [
        {
          "output_type": "stream",
          "name": "stdout",
          "text": [
            "node          7 root   21u  IPv6  20281      0t0  TCP *:8080 (LISTEN)\n",
            "kernel_ma    12 root    4u  IPv4  19830      0t0  TCP 172.28.0.12:6000 (LISTEN)\n",
            "colab-fil    68 root    3u  IPv4  20315      0t0  TCP 127.0.0.1:3453 (LISTEN)\n",
            "jupyter-n    85 root    7u  IPv4  21285      0t0  TCP 172.28.0.12:9000 (LISTEN)\n",
            "python3     216 root   26u  IPv4  22341      0t0  TCP 127.0.0.1:40865 (LISTEN)\n",
            "python3     248 root    3u  IPv4  22502      0t0  TCP 127.0.0.1:39861 (LISTEN)\n",
            "python3     248 root    4u  IPv4  22503      0t0  TCP 127.0.0.1:58449 (LISTEN)\n",
            "python3   28841 root   12u  IPv4 499247      0t0  TCP *:5000 (LISTEN)\n",
            "python3   29140 root    7u  IPv4 499247      0t0  TCP *:5000 (LISTEN)\n",
            "python3   29140 root   12u  IPv4 499247      0t0  TCP *:5000 (LISTEN)\n"
          ]
        }
      ]
    },
    {
      "cell_type": "code",
      "source": [
        "import requests\n",
        "response = requests.post('http://localhost:5000/chatbot', json={'message': 'Hello'})\n",
        "print(response.json())"
      ],
      "metadata": {
        "colab": {
          "base_uri": "https://localhost:8080/"
        },
        "id": "xY4KJoeNyE12",
        "outputId": "6ca1fa39-b4ae-4f90-ffaf-7bcae7337f5f"
      },
      "execution_count": 9,
      "outputs": [
        {
          "output_type": "stream",
          "name": "stdout",
          "text": [
            "{'response': 'Hello'}\n"
          ]
        }
      ]
    },
    {
      "cell_type": "code",
      "source": [
        "response=requests.post('http://localhost:5000/chatbot', json={'message': 'How are you?'})\n",
        "print(response.json())"
      ],
      "metadata": {
        "colab": {
          "base_uri": "https://localhost:8080/"
        },
        "id": "S9rER0QUyV3_",
        "outputId": "9f412461-272a-4e1a-fc7b-a28f75d2014b"
      },
      "execution_count": 10,
      "outputs": [
        {
          "output_type": "stream",
          "name": "stdout",
          "text": [
            "{'response': 'How are you?'}\n"
          ]
        }
      ]
    },
    {
      "cell_type": "code",
      "source": [
        "response=requests.post('http://localhost:5000/chatbot', json={'message': 'What is the capital of France?'})\n",
        "print(response.json())\n"
      ],
      "metadata": {
        "colab": {
          "base_uri": "https://localhost:8080/"
        },
        "id": "E3hx2xyTyoEJ",
        "outputId": "d5f1f6bc-fa5b-47d5-c595-577e48663065"
      },
      "execution_count": 11,
      "outputs": [
        {
          "output_type": "stream",
          "name": "stdout",
          "text": [
            "{'response': 'What is the capital of France?'}\n"
          ]
        }
      ]
    },
    {
      "cell_type": "code",
      "source": [
        "response=requests.post('http://localhost:5000/chatbot', json={'message': 'What is the capital of India?'})\n",
        "print(response.json())"
      ],
      "metadata": {
        "colab": {
          "base_uri": "https://localhost:8080/"
        },
        "id": "_td_wGPOzEVy",
        "outputId": "effe4e6e-00df-4248-93cf-4309f5bae87c"
      },
      "execution_count": 12,
      "outputs": [
        {
          "output_type": "stream",
          "name": "stdout",
          "text": [
            "{'response': 'What is the capital of India? Mumbai. Mumbai.'}\n"
          ]
        }
      ]
    },
    {
      "cell_type": "code",
      "source": [
        "response=requests.post('http://localhost:5000/chatbot', json={'message': 'What is the capital of USA?'})\n",
        "print(response.json())\n"
      ],
      "metadata": {
        "colab": {
          "base_uri": "https://localhost:8080/"
        },
        "id": "IWJ6w3FazZXE",
        "outputId": "9caa1d1d-feed-4ec2-81f1-b184fc9c3bc2"
      },
      "execution_count": 13,
      "outputs": [
        {
          "output_type": "stream",
          "name": "stdout",
          "text": [
            "{'response': 'What is the capital of USA? DC'}\n"
          ]
        }
      ]
    },
    {
      "cell_type": "code",
      "source": [],
      "metadata": {
        "id": "cPTwTD6kzg7K"
      },
      "execution_count": null,
      "outputs": []
    }
  ]
}